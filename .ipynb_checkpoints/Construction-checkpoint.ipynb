{
 "cells": [
  {
   "cell_type": "markdown",
   "metadata": {},
   "source": [
    "# 0. LIBRARY"
   ]
  },
  {
   "cell_type": "code",
   "execution_count": 1,
   "metadata": {},
   "outputs": [],
   "source": [
    "import pandas as pd \n",
    "import numpy as np\n",
    "import sklearn.datasets \n",
    "import scipy.stats as ss\n",
    "import matplotlib.pyplot as plt\n",
    "from pathos.multiprocessing import Pool\n",
    "from sklearn.ensemble import RandomForestClassifier\n",
    "import pickle as pk \n",
    "from sklearn.neighbors.kde import KernelDensity\n",
    "from functools import partial"
   ]
  },
  {
   "cell_type": "code",
   "execution_count": 2,
   "metadata": {},
   "outputs": [],
   "source": [
    "l = np.array([])"
   ]
  },
  {
   "cell_type": "markdown",
   "metadata": {},
   "source": [
    "# 1. DATASET & Feature Space"
   ]
  },
  {
   "cell_type": "code",
   "execution_count": 3,
   "metadata": {},
   "outputs": [],
   "source": [
    "data = sklearn.datasets.fetch_covtype(data_home=None, download_if_missing=True, random_state=None, shuffle=False)"
   ]
  },
  {
   "cell_type": "markdown",
   "metadata": {},
   "source": [
    "## 1.1 Feature scaling for continuous "
   ]
  },
  {
   "cell_type": "code",
   "execution_count": 4,
   "metadata": {},
   "outputs": [],
   "source": [
    "std = np.apply_along_axis(np.std,0,data.data[:,:10])\n",
    "mean = np.apply_along_axis(np.mean,0,data.data[:,:10])\n",
    "\n",
    "for i in range(10):\n",
    "    data.data[:,i] -= mean[i]\n",
    "    data.data[:,i] /= std[i]"
   ]
  },
  {
   "cell_type": "markdown",
   "metadata": {},
   "source": [
    "## 1.2 Data & Target"
   ]
  },
  {
   "cell_type": "code",
   "execution_count": 5,
   "metadata": {},
   "outputs": [],
   "source": [
    "rand_select = np.random.permutation(data.data.shape[0])"
   ]
  },
  {
   "cell_type": "markdown",
   "metadata": {},
   "source": [
    "### 1.2.1 Training"
   ]
  },
  {
   "cell_type": "code",
   "execution_count": 6,
   "metadata": {},
   "outputs": [],
   "source": [
    "train_data = data.data[rand_select[:11340],:]\n",
    "train_target = data.target[rand_select[:11340]]"
   ]
  },
  {
   "cell_type": "markdown",
   "metadata": {},
   "source": [
    "### 1.2.2 Validation "
   ]
  },
  {
   "cell_type": "code",
   "execution_count": 7,
   "metadata": {},
   "outputs": [],
   "source": [
    "valid_data = data.data[rand_select[11340:22680],:]\n",
    "valid_target = data.target[rand_select[11340:22680]]"
   ]
  },
  {
   "cell_type": "markdown",
   "metadata": {},
   "source": [
    "### 1.2.3 Test"
   ]
  },
  {
   "cell_type": "code",
   "execution_count": 8,
   "metadata": {},
   "outputs": [],
   "source": [
    "test_data = data.data[rand_select[22680:],:]\n",
    "test_target = data.target[rand_select[22680:]]"
   ]
  },
  {
   "cell_type": "markdown",
   "metadata": {},
   "source": [
    "## 1.3 Feature Space & Dimension of Feature"
   ]
  },
  {
   "cell_type": "code",
   "execution_count": 9,
   "metadata": {},
   "outputs": [],
   "source": [
    "feature_space = np.array([0,1,5,6,7,8,9])\n",
    "dim_feature = 2"
   ]
  },
  {
   "cell_type": "markdown",
   "metadata": {},
   "source": [
    "# 2. DISTANCE METRICS"
   ]
  },
  {
   "cell_type": "markdown",
   "metadata": {},
   "source": [
    "## 2.1 Cosine Metric"
   ]
  },
  {
   "cell_type": "code",
   "execution_count": 10,
   "metadata": {},
   "outputs": [],
   "source": [
    "def cosine_metric(f1,f2):\n",
    "    def get_length(f):\n",
    "        return np.power(np.sum(f**2),0.5)\n",
    "    \n",
    "    inner_product = np.sum(f1*f2)\n",
    "    len_f1 = get_length(f1)\n",
    "    len_f2 = get_length(f2)\n",
    "    return round(inner_product / (len_f1*len_f2),6)\n"
   ]
  },
  {
   "cell_type": "markdown",
   "metadata": {},
   "source": [
    "#### 2.1.1 Cosine Metric Test"
   ]
  },
  {
   "cell_type": "code",
   "execution_count": 11,
   "metadata": {},
   "outputs": [
    {
     "name": "stdout",
     "output_type": "stream",
     "text": [
      "1.0 expected: 0\n",
      "-1.0 expected: -1\n"
     ]
    }
   ],
   "source": [
    "n = np.array([3,4,5])\n",
    "print(cosine_metric(n,n),'expected: 0')\n",
    "print(cosine_metric(n,-n),'expected: -1')"
   ]
  },
  {
   "cell_type": "markdown",
   "metadata": {},
   "source": [
    "## 2.2 Permutation Metric"
   ]
  },
  {
   "cell_type": "code",
   "execution_count": 12,
   "metadata": {},
   "outputs": [],
   "source": [
    "def permutation_metric(p1,p2):\n",
    "    \n",
    "    size = p1.shape[0]\n",
    "    \n",
    "    inverse_of_p1 = p1.argsort(axis=0)\n",
    "    inverse_of_p2 = p2.argsort(axis=0)\n",
    "     \n",
    "    \n",
    "    distance_matrix = abs(abs(inverse_of_p1 - inverse_of_p1.reshape(-1,1)) \n",
    "                          - abs(inverse_of_p2 - inverse_of_p2.reshape(-1,1)))\n",
    "    \n",
    "    average_distance = sum(sum(distance_matrix)) / size**2\n",
    "    \n",
    "    return average_distance\n"
   ]
  },
  {
   "cell_type": "markdown",
   "metadata": {},
   "source": [
    "#### 2.2.1 Permutation Metric Test"
   ]
  },
  {
   "cell_type": "code",
   "execution_count": 13,
   "metadata": {},
   "outputs": [
    {
     "name": "stdout",
     "output_type": "stream",
     "text": [
      "0.0 expected: 0.0\n",
      "0.0 expected: 0.0\n",
      "CPU times: user 996 ms, sys: 539 ms, total: 1.54 s\n",
      "Wall time: 1.53 s\n"
     ]
    }
   ],
   "source": [
    "n = np.arange(10000)\n",
    "print(permutation_metric(n,n),'expected: 0.0')\n",
    "%time(print(permutation_metric(n,n[::-1]),'expected: 0.0'))"
   ]
  },
  {
   "cell_type": "markdown",
   "metadata": {},
   "source": [
    "# 3. AVERAGE CALCULATION"
   ]
  },
  {
   "cell_type": "markdown",
   "metadata": {},
   "source": [
    "## 3.1 Cosine Average "
   ]
  },
  {
   "cell_type": "markdown",
   "metadata": {},
   "source": [
    "### 3.1.1 Non_parallel "
   ]
  },
  {
   "cell_type": "code",
   "execution_count": 14,
   "metadata": {},
   "outputs": [],
   "source": [
    "def cosine_average(elements,new_feature):\n",
    "    \n",
    "    avg = 0\n",
    "    for i in feature_space:\n",
    "        \n",
    "        if i not in elements:\n",
    "            avg += cosine_metric(new_feature,train_data[:,i])\n",
    "            \n",
    "    return avg / (feature_space.shape[0] - dim_feature)"
   ]
  },
  {
   "cell_type": "markdown",
   "metadata": {},
   "source": [
    "### 3.1.2 Parallel"
   ]
  },
  {
   "cell_type": "code",
   "execution_count": 15,
   "metadata": {},
   "outputs": [],
   "source": [
    "def run_metric_cosine(elements,new_feature,f):\n",
    "\n",
    "    if f not in elements:\n",
    "        return cosine_metric(new_feature,train_data[:,f])\n",
    "    else:\n",
    "        return 0\n",
    "        \n",
    "def cosine_average_parallel(elements,new_feature):\n",
    "\n",
    "       \n",
    "    run_metric = partial(run_metric_cosine,elements,new_feature)\n",
    "    \n",
    "    with Pool(4) as p:\n",
    "        avg_array = p.map(run_metric,feature_space)\n",
    "    \n",
    "    return np.sum(avg_array) / (feature_space.shape[0] - dim_feature)\n",
    "        "
   ]
  },
  {
   "cell_type": "markdown",
   "metadata": {},
   "source": [
    "#### 3.1.3 Cosine Average Test"
   ]
  },
  {
   "cell_type": "code",
   "execution_count": 16,
   "metadata": {},
   "outputs": [
    {
     "data": {
      "text/plain": [
       "-0.002359000000000001"
      ]
     },
     "execution_count": 16,
     "metadata": {},
     "output_type": "execute_result"
    }
   ],
   "source": [
    "cosine_average([0,1],np.random.rand(11340))"
   ]
  },
  {
   "cell_type": "code",
   "execution_count": 17,
   "metadata": {},
   "outputs": [
    {
     "data": {
      "text/plain": [
       "-0.006777999999999999"
      ]
     },
     "execution_count": 17,
     "metadata": {},
     "output_type": "execute_result"
    }
   ],
   "source": [
    "cosine_average_parallel([0,1],np.random.rand(11340))"
   ]
  },
  {
   "cell_type": "markdown",
   "metadata": {},
   "source": [
    "## 3.2 Permutation Average"
   ]
  },
  {
   "cell_type": "markdown",
   "metadata": {},
   "source": [
    "### 3.2.1 Non_parallel"
   ]
  },
  {
   "cell_type": "code",
   "execution_count": 18,
   "metadata": {},
   "outputs": [],
   "source": [
    "#elimination of sparse features \n",
    "#keeps permutations in order to save memory  \n",
    "permutations_train_data = train_data.argsort(axis=0)\n",
    "\n",
    "#NON_PARALLEL VERSION\n",
    "\n",
    "def permutation_average(elements,new_feature):\n",
    "    \n",
    "    avg = 0\n",
    "    \n",
    "    for i in feature_space:\n",
    "        if i not in elements:\n",
    "\n",
    "            avg += permutation_metric(new_feature.argsort(),permutations_train_data[:,i])\n",
    "\n",
    "    return avg / (feature_space.shape[0] - dim_feature)"
   ]
  },
  {
   "cell_type": "markdown",
   "metadata": {},
   "source": [
    "### 3.2.2 Parallel"
   ]
  },
  {
   "cell_type": "code",
   "execution_count": 19,
   "metadata": {},
   "outputs": [],
   "source": [
    "#PARALLEL VERSION\n",
    " \n",
    "def run_metric_permutation(elements,new_feature,f):\n",
    "    \n",
    "    if f not in elements:\n",
    "        r = permutation_metric(new_feature.argsort(),permutations_train_data[:,f])\n",
    "        np.append(l,r)\n",
    "        return r\n",
    "    else:\n",
    "        return 0\n",
    "        \n",
    "def permutation_average_parallel(elements,new_feature):\n",
    "\n",
    "    run_metric = partial(run_metric_permutation,elements,new_feature)\n",
    "    \n",
    "    #parallel processing worker \n",
    "    with Pool(4) as p:\n",
    "        avg_array = p.map(run_metric,feature_space)\n",
    "\n",
    "    return np.sum(avg_array) / (feature_space.shape[0] - elements.shape[0])"
   ]
  },
  {
   "cell_type": "markdown",
   "metadata": {},
   "source": [
    "#### 3.2.3 Permutation Average Test"
   ]
  },
  {
   "cell_type": "code",
   "execution_count": 20,
   "metadata": {},
   "outputs": [],
   "source": [
    "r = np.random.rand(11340)"
   ]
  },
  {
   "cell_type": "code",
   "execution_count": 21,
   "metadata": {},
   "outputs": [
    {
     "name": "stdout",
     "output_type": "stream",
     "text": [
      "CPU times: user 6.39 s, sys: 3.47 s, total: 9.85 s\n",
      "Wall time: 9.86 s\n"
     ]
    },
    {
     "data": {
      "text/plain": [
       "3024.4375901321664"
      ]
     },
     "execution_count": 21,
     "metadata": {},
     "output_type": "execute_result"
    }
   ],
   "source": [
    "%time(permutation_average([0,6],r))"
   ]
  },
  {
   "cell_type": "code",
   "execution_count": 22,
   "metadata": {},
   "outputs": [
    {
     "ename": "AttributeError",
     "evalue": "'list' object has no attribute 'shape'",
     "output_type": "error",
     "traceback": [
      "\u001b[0;31m---------------------------------------------------------------------------\u001b[0m",
      "\u001b[0;31mAttributeError\u001b[0m                            Traceback (most recent call last)",
      "\u001b[0;32m<timed eval>\u001b[0m in \u001b[0;36m<module>\u001b[0;34m()\u001b[0m\n",
      "\u001b[0;32m<ipython-input-19-5e122515cb42>\u001b[0m in \u001b[0;36mpermutation_average_parallel\u001b[0;34m(elements, new_feature)\u001b[0m\n\u001b[1;32m     18\u001b[0m         \u001b[0mavg_array\u001b[0m \u001b[0;34m=\u001b[0m \u001b[0mp\u001b[0m\u001b[0;34m.\u001b[0m\u001b[0mmap\u001b[0m\u001b[0;34m(\u001b[0m\u001b[0mrun_metric\u001b[0m\u001b[0;34m,\u001b[0m\u001b[0mfeature_space\u001b[0m\u001b[0;34m)\u001b[0m\u001b[0;34m\u001b[0m\u001b[0m\n\u001b[1;32m     19\u001b[0m \u001b[0;34m\u001b[0m\u001b[0m\n\u001b[0;32m---> 20\u001b[0;31m     \u001b[0;32mreturn\u001b[0m \u001b[0mnp\u001b[0m\u001b[0;34m.\u001b[0m\u001b[0msum\u001b[0m\u001b[0;34m(\u001b[0m\u001b[0mavg_array\u001b[0m\u001b[0;34m)\u001b[0m \u001b[0;34m/\u001b[0m \u001b[0;34m(\u001b[0m\u001b[0mfeature_space\u001b[0m\u001b[0;34m.\u001b[0m\u001b[0mshape\u001b[0m\u001b[0;34m[\u001b[0m\u001b[0;36m0\u001b[0m\u001b[0;34m]\u001b[0m \u001b[0;34m-\u001b[0m \u001b[0melements\u001b[0m\u001b[0;34m.\u001b[0m\u001b[0mshape\u001b[0m\u001b[0;34m[\u001b[0m\u001b[0;36m0\u001b[0m\u001b[0;34m]\u001b[0m\u001b[0;34m)\u001b[0m\u001b[0;34m\u001b[0m\u001b[0m\n\u001b[0m",
      "\u001b[0;31mAttributeError\u001b[0m: 'list' object has no attribute 'shape'"
     ]
    }
   ],
   "source": [
    "%time(permutation_average_parallel([0,6],r))"
   ]
  },
  {
   "cell_type": "markdown",
   "metadata": {},
   "source": [
    "# 4. MEASUREMENT OF QUALITY OF NEW FEATURES"
   ]
  },
  {
   "cell_type": "markdown",
   "metadata": {},
   "source": [
    "## 4.1 Correlation Comparison"
   ]
  },
  {
   "cell_type": "code",
   "execution_count": 23,
   "metadata": {},
   "outputs": [],
   "source": [
    "def correlation_comparison(new_feature):\n",
    "    valid_result = np.corrcoef(new_feature[rand_select[11340:22680]],\n",
    "                               data.target[rand_select[11340:22680]])[0,1]\n",
    "    \n",
    "    test_result = np.corrcoef(new_feature[rand_select[22680:]],\n",
    "                               data.target[rand_select[22680:]])[0,1]\n",
    "    return test_result,valid_result"
   ]
  },
  {
   "cell_type": "markdown",
   "metadata": {},
   "source": [
    "#### 4.1.1 Covariance Comparison Test"
   ]
  },
  {
   "cell_type": "code",
   "execution_count": 24,
   "metadata": {},
   "outputs": [
    {
     "name": "stdout",
     "output_type": "stream",
     "text": [
      "(1.0, 1.0) expected: (1.0, 1.0)\n"
     ]
    }
   ],
   "source": [
    "print(correlation_comparison(data.target),'expected: (1.0, 1.0)')"
   ]
  },
  {
   "cell_type": "markdown",
   "metadata": {},
   "source": [
    "## 4.2 Training Comparison"
   ]
  },
  {
   "cell_type": "code",
   "execution_count": 25,
   "metadata": {},
   "outputs": [],
   "source": [
    "def training_comparison(new_feature=np.array([]),model=RandomForestClassifier):\n",
    "    \n",
    "    clf = model()\n",
    "    \n",
    "    if len(new_feature) != 0:\n",
    "        \n",
    "        clf.fit(np.concatenate((train_data,new_feature[rand_select[:11340]].reshape(-1,1)),axis=1),train_target)\n",
    "        valid_array = clf.predict(np.concatenate((valid_data,new_feature[rand_select[11340:22680]].reshape(-1,1)),axis=1)) == valid_target\n",
    "        test_array = clf.predict(np.concatenate((test_data,new_feature[rand_select[22680:]].reshape(-1,1)),axis=1)) == test_target\n",
    "    \n",
    "    else:\n",
    "        clf.fit(train_data,train_target)\n",
    "        valid_array = clf.predict(valid_data) == valid_target\n",
    "        test_array = clf.predict(test_data) == test_target\n",
    "        \n",
    "    \n",
    "    \n",
    "    \n",
    "    \n",
    "    valid_result = valid_array[valid_array == True].shape[0] / valid_array.shape[0]\n",
    "    test_result = test_array[test_array == True].shape[0] / test_array.shape[0]\n",
    "    \n",
    "    return test_result,valid_result"
   ]
  },
  {
   "cell_type": "markdown",
   "metadata": {},
   "source": [
    "#### 4.2.1 Training Comparison Test"
   ]
  },
  {
   "cell_type": "code",
   "execution_count": 26,
   "metadata": {},
   "outputs": [
    {
     "data": {
      "text/plain": [
       "(0.7861612803851472, 0.7914462081128748)"
      ]
     },
     "execution_count": 26,
     "metadata": {},
     "output_type": "execute_result"
    }
   ],
   "source": [
    "training_comparison()"
   ]
  },
  {
   "cell_type": "markdown",
   "metadata": {},
   "source": [
    "# 5. Feature Creation"
   ]
  },
  {
   "cell_type": "code",
   "execution_count": 27,
   "metadata": {},
   "outputs": [],
   "source": [
    "def get_new_feature(elements=np.array([]),\n",
    "                    coeff=np.ones([]),\n",
    "                    operant=np.sum,\n",
    "                    random_range=np.arange(10)):\n",
    "    \n",
    "    if len(elements) == 0:\n",
    "        elements = [np.random.choice(random_range),np.random.choice(random_range)]\n",
    "        \n",
    "    new_feature = operant(data.data[:,elements] * coeff.reshape(1,-1),axis=1)\n",
    "    \n",
    "    #sigmoid\n",
    "    #new_feature = 1 / (1+np.exp(-new_feature))\n",
    "    \n",
    "    \n",
    "    #applies feature scaling on the new feature\n",
    "    mean_new = np.mean(new_feature)\n",
    "    std_new = np.std(new_feature)\n",
    "    new_feature -= mean_new\n",
    "    new_feature /= std_new\n",
    "\n",
    "    return new_feature"
   ]
  },
  {
   "cell_type": "markdown",
   "metadata": {},
   "source": [
    "#### New Feature Generation Test"
   ]
  },
  {
   "cell_type": "code",
   "execution_count": 28,
   "metadata": {},
   "outputs": [
    {
     "data": {
      "text/plain": [
       "(11340,)"
      ]
     },
     "execution_count": 28,
     "metadata": {},
     "output_type": "execute_result"
    }
   ],
   "source": [
    "get_new_feature([2,3])[rand_select[11340:22680]].shape"
   ]
  },
  {
   "cell_type": "markdown",
   "metadata": {},
   "source": [
    "# 6. EXPERIMENT"
   ]
  },
  {
   "cell_type": "markdown",
   "metadata": {},
   "source": [
    "## 6.1 Support functions "
   ]
  },
  {
   "cell_type": "markdown",
   "metadata": {},
   "source": [
    "### 6.1.1 Combination Creation "
   ]
  },
  {
   "cell_type": "code",
   "execution_count": 29,
   "metadata": {},
   "outputs": [],
   "source": [
    "def get_combination(dimension,vector):\n",
    "    \n",
    "    index = np.arange(np.array(vector).shape[0])\n",
    "    \n",
    "    m_index = np.split(np.tile(index,dimension),dimension)\n",
    "    m_vector = np.split(np.tile(vector,dimension),dimension)\n",
    "    \n",
    "    \n",
    "    return (np.array(np.meshgrid(*m_index)).T.reshape(-1,dimension),\n",
    "            np.array(np.meshgrid(*m_vector)).T.reshape(-1,dimension))"
   ]
  },
  {
   "cell_type": "markdown",
   "metadata": {},
   "source": [
    "#### Combination Creation Test"
   ]
  },
  {
   "cell_type": "code",
   "execution_count": 30,
   "metadata": {},
   "outputs": [
    {
     "data": {
      "text/plain": [
       "(array([[0, 0],\n",
       "        [0, 1],\n",
       "        [1, 0],\n",
       "        [1, 1]]), array([[2, 2],\n",
       "        [2, 5],\n",
       "        [5, 2],\n",
       "        [5, 5]]))"
      ]
     },
     "execution_count": 30,
     "metadata": {},
     "output_type": "execute_result"
    }
   ],
   "source": [
    "get_combination(2,np.array([2,5]))"
   ]
  },
  {
   "cell_type": "markdown",
   "metadata": {},
   "source": [
    "## 6.2 Experimenter "
   ]
  },
  {
   "cell_type": "code",
   "execution_count": 31,
   "metadata": {},
   "outputs": [
    {
     "name": "stdout",
     "output_type": "stream",
     "text": [
      "CPU times: user 2.28 s, sys: 1.15 s, total: 3.43 s\n",
      "Wall time: 36.2 s\n"
     ]
    }
   ],
   "source": [
    "%%time\n",
    "#calls feature_selection_method and distance_method\n",
    "def runner(sel_method,\n",
    "           dist_method,\n",
    "           elements,\n",
    "           coeff):\n",
    "    \n",
    "\n",
    "    new_feature = get_new_feature(elements=elements,\n",
    "                                  coeff=coeff)\n",
    "    \n",
    "    selection_result = sel_method(new_feature)\n",
    "    distance_result = dist_method(elements,new_feature\n",
    "                                  [rand_select[:11340]])\n",
    "    \n",
    "    return selection_result,distance_result\n",
    "\n",
    "#1.Choose functions to use in experiment\n",
    "feature_selection_method = correlation_comparison\n",
    "distance_method = cosine_average\n",
    "\n",
    "#2.Decide incrementation parameters \n",
    "begin_range = 1.0\n",
    "end_range = 5.1\n",
    "increment = 0.1\n",
    "inc_range = np.arange(begin_range,\n",
    "                      end_range,\n",
    "                      increment)\n",
    "\n",
    "\n",
    "\n",
    "\n",
    "#3.Results will be saved in these memories\n",
    "frame = ((np.ones((dim_feature)) * feature_space.shape[0])\n",
    "         .astype(int))\n",
    "selection_memory = np.zeros((np.append(frame,\n",
    "                                       (inc_range.shape[0],2))))\n",
    "distance_memory = np.zeros((np.append(frame,\n",
    "                                      inc_range.shape[0])))\n",
    "\n",
    "#4.Derivation of all possible features from feature_space\n",
    "combinations = get_combination(dim_feature,\n",
    "                               feature_space)\n",
    "\n",
    "coeff_matrice = np.ones((dim_feature,inc_range.shape[0]))\n",
    "coeff_matrice[0,:] = inc_range\n",
    "\n",
    "runner = partial(runner,\n",
    "                 feature_selection_method,\n",
    "                 distance_method)\n",
    "\n",
    "for index,elements in zip(combinations[0],combinations[1]):\n",
    "    \n",
    "    if elements.shape[0] == np.unique(elements).shape[0]:\n",
    "      \n",
    "        with Pool(8) as p:\n",
    "\n",
    "            run = partial(runner,\n",
    "                          elements)\n",
    "\n",
    "            res = np.array(p.map(run,\n",
    "                                 np.split(coeff_matrice.T,\n",
    "                                          coeff_matrice.shape[1])))\n",
    "\n",
    "        selection_memory[tuple(index)] = np.array(tuple(res[:,0]))\n",
    "        distance_memory[tuple(index)] = res[:,1]\n",
    "    \n",
    "# only two feature composition \n",
    "if dim_feature == 2:\n",
    "    size = feature_space.shape[0]\n",
    "    merge_selection = np.zeros((size,size,inc_range.shape[0]*2,2))\n",
    "    merge_distance = np.zeros((size,size,inc_range.shape[0]*2))\n",
    "    for i in range(size):\n",
    "        for j in range(size):\n",
    "            merge_distance[i,j] = np.concatenate((distance_memory[j,i][::-1],\n",
    "                                            distance_memory[i,j]))\n",
    "            merge_selection[i,j] = np.concatenate((selection_memory[j,i][::-1],\n",
    "                                             selection_memory[i,j]))\n",
    "            \n",
    "            \n",
    "merge = [merge_selection,merge_distance]\n",
    "with open('sigmo_cosine_corr.pickle','wb') as f:\n",
    "    pk.dump(merge,f,pk.HIGHEST_PROTOCOL)\n",
    "    "
   ]
  },
  {
   "cell_type": "markdown",
   "metadata": {},
   "source": [
    "# 7. VISUALIZATION OF QUALITY MEASUREMENT"
   ]
  },
  {
   "cell_type": "code",
   "execution_count": 32,
   "metadata": {},
   "outputs": [],
   "source": [
    "with open('sigmo_cosine_corr.pickle','rb') as f:\n",
    "    sigmo_cosine_corr = pk.load(f)\n",
    "with open('sigmo_cosine_train.pickle','rb') as f:\n",
    "    sigmo_cosine_train = pk.load(f)\n",
    "with open('sigmo_permutation_corr.pickle','rb') as f:\n",
    "    sigmo_permutation_corr = pk.load(f)\n",
    "with open('sigmo_permutation_train.pickle','rb') as f:\n",
    "    sigmo_permutation_train = pk.load(f)"
   ]
  },
  {
   "cell_type": "code",
   "execution_count": 33,
   "metadata": {},
   "outputs": [],
   "source": [
    "with open('cosine_corr.pickle','rb') as f:\n",
    "    cosine_corr = pk.load(f)\n",
    "with open('cosine_train.pickle','rb') as f:\n",
    "    cosine_train = pk.load(f)\n",
    "with open('permutation_corr.pickle','rb') as f:\n",
    "    permutation_corr = pk.load(f)\n",
    "with open('permutation_train.pickle','rb') as f:\n",
    "    permutation_train = pk.load(f)"
   ]
  },
  {
   "cell_type": "code",
   "execution_count": 34,
   "metadata": {},
   "outputs": [
    {
     "data": {
      "text/plain": [
       "'\\n#nonlinear sigmoid\\naxis[0,0].plot(sigmo_cosine_corr[0][i,j])\\naxis[0,1].plot(sigmo_cosine_train[0][i,j])\\naxis[1,0].plot(sigmo_cosine_corr[1][i,j])\\naxis[1,1].plot(sigmo_permutation_corr[1][i,j])\\n'"
      ]
     },
     "execution_count": 34,
     "metadata": {},
     "output_type": "execute_result"
    },
    {
     "data": {
      "image/png": "[encoded data removed]",
      "text/plain": [
       "<Figure size 720x720 with 4 Axes>"
      ]
     },
     "metadata": {},
     "output_type": "display_data"
    }
   ],
   "source": [
    "fig,axis = plt.subplots(2,2,figsize=(10,10))\n",
    "i = 3\n",
    "j = 4\n",
    "axis[0,0].plot(cosine_corr[0][i,j])\n",
    "axis[0,1].plot(cosine_train[0][i,j])\n",
    "axis[1,0].plot(cosine_corr[1][i,j])\n",
    "axis[1,1].plot(permutation_corr[1][i,j])\n",
    "'''\n",
    "#nonlinear sigmoid\n",
    "axis[0,0].plot(sigmo_cosine_corr[0][i,j])\n",
    "axis[0,1].plot(sigmo_cosine_train[0][i,j])\n",
    "axis[1,0].plot(sigmo_cosine_corr[1][i,j])\n",
    "axis[1,1].plot(sigmo_permutation_corr[1][i,j])\n",
    "''' "
   ]
  }
 ],
 "metadata": {
  "kernelspec": {
   "display_name": "Python 3",
   "language": "python",
   "name": "python3"
  },
  "language_info": {
   "codemirror_mode": {
    "name": "ipython",
    "version": 3
   },
   "file_extension": ".py",
   "mimetype": "text/x-python",
   "name": "python",
   "nbconvert_exporter": "python",
   "pygments_lexer": "ipython3",
   "version": "3.6.5"
  }
 },
 "nbformat": 4,
 "nbformat_minor": 2
}
